{
  "nbformat": 4,
  "nbformat_minor": 0,
  "metadata": {
    "colab": {
      "name": "Non_Representative_Statistics_Estimation_Smells.ipynb",
      "provenance": [],
      "collapsed_sections": [],
      "mount_file_id": "1XEhbtlu5GwZ3YsvePw8HRJQPIsKgOHtb",
      "authorship_tag": "ABX9TyN5lNizkyu2V00m3hrMswbN",
      "include_colab_link": true
    },
    "kernelspec": {
      "name": "python3",
      "display_name": "Python 3"
    },
    "language_info": {
      "name": "python"
    }
  },
  "cells": [
    {
      "cell_type": "markdown",
      "metadata": {
        "id": "view-in-github",
        "colab_type": "text"
      },
      "source": [
        "<a href=\"https://colab.research.google.com/github/saeedsiddik/CMPUT501/blob/main/Non_Representative_Statistics_Estimation_Smells.ipynb\" target=\"_parent\"><img src=\"https://colab.research.google.com/assets/colab-badge.svg\" alt=\"Open In Colab\"/></a>"
      ]
    },
    {
      "cell_type": "code",
      "execution_count": 18,
      "metadata": {
        "id": "D1N4nB_IkXj4"
      },
      "outputs": [],
      "source": [
        "import re\n",
        "import ast\n",
        "import glob, os\n",
        "import pandas as pd"
      ]
    },
    {
      "cell_type": "code",
      "source": [
        "from google.colab import drive\n",
        "\n",
        "drive.mount('/content/gdrive')"
      ],
      "metadata": {
        "colab": {
          "base_uri": "https://localhost:8080/"
        },
        "id": "zmfjsPz3ksrP",
        "outputId": "31254782-3cac-4613-a3d8-36ce96be6f82"
      },
      "execution_count": 3,
      "outputs": [
        {
          "output_type": "stream",
          "name": "stdout",
          "text": [
            "Mounted at /content/gdrive\n"
          ]
        }
      ]
    },
    {
      "cell_type": "code",
      "source": [
        "gdrive_path = \"/content/gdrive/MyDrive/Colab_Notebooks/ECE720_MLSE/\""
      ],
      "metadata": {
        "id": "8ohfAw7WzNtC"
      },
      "execution_count": 9,
      "outputs": []
    },
    {
      "cell_type": "code",
      "source": [
        "def get_list_of_filename(path, extension):\n",
        "    notebook_filenames_list = glob.glob(os.path.join(path, extension))\n",
        "    \n",
        "    print(len(notebook_filenames_list))\n",
        "    return notebook_filenames_list"
      ],
      "metadata": {
        "id": "PD-VtCVez2eh"
      },
      "execution_count": 10,
      "outputs": []
    },
    {
      "cell_type": "code",
      "source": [
        "list_of_py_files = get_list_of_filename(gdrive_path+\"data/\", \"*.py\")\n",
        "list_of_py_files"
      ],
      "metadata": {
        "colab": {
          "base_uri": "https://localhost:8080/"
        },
        "id": "wEzJVWbzz6jR",
        "outputId": "96afaf57-d8eb-4f81-e00a-5cee78edc935"
      },
      "execution_count": 15,
      "outputs": [
        {
          "output_type": "stream",
          "name": "stdout",
          "text": [
            "4\n"
          ]
        },
        {
          "output_type": "execute_result",
          "data": {
            "text/plain": [
              "['/content/gdrive/MyDrive/Colab_Notebooks/ECE720_MLSE/data/so34716454.py',\n",
              " '/content/gdrive/MyDrive/Colab_Notebooks/ECE720_MLSE/data/so55776436_2.py',\n",
              " '/content/gdrive/MyDrive/Colab_Notebooks/ECE720_MLSE/data/so55776436_3.py',\n",
              " '/content/gdrive/MyDrive/Colab_Notebooks/ECE720_MLSE/data/so55776436_1.py']"
            ]
          },
          "metadata": {},
          "execution_count": 15
        }
      ]
    },
    {
      "cell_type": "code",
      "source": [
        "file_name_list, code_line_list, line_number_list = [], [], []\n",
        "for filename in list_of_py_files:\n",
        "    try:\n",
        "        with open(filename) as fp:\n",
        "            is_dl_project = False\n",
        "            line_number = 0\n",
        "            \n",
        "            lines = fp.readlines()\n",
        "            for line in lines:\n",
        "                line_number += 1\n",
        "                line = line.strip()\n",
        "                if re.match(r'^from |import ', line):\n",
        "                    package_name = line.split()[1].split('.')[0]\n",
        "                    if re.match(r'keras|tensorflow', package_name):\n",
        "                        is_dl_project = True\n",
        "                \n",
        "                if (is_dl_project):\n",
        "                    if (\"BatchNormalization()\" in line) or (\"Dropout(\" in line):\n",
        "                        file_name_list.append(filename)\n",
        "                        code_line_list.append(line)\n",
        "                        line_number_list.append(line_number)\n",
        "                        \n",
        "                        # print (filename, line_number, line)\n",
        "    except Exception as e:\n",
        "        print(\"Error : \", filename, \"; \", str(e))\n",
        "        pass \n"
      ],
      "metadata": {
        "id": "61jUVs6p0K7E"
      },
      "execution_count": 16,
      "outputs": []
    },
    {
      "cell_type": "code",
      "source": [
        "data = {'Filename':file_name_list, 'Code': code_line_list, 'LineNumber':line_number_list}\n",
        "df_dl_smell = pd.DataFrame(data)\n",
        "df_dl_smell"
      ],
      "metadata": {
        "colab": {
          "base_uri": "https://localhost:8080/",
          "height": 300
        },
        "id": "fLqCDjPV0MxF",
        "outputId": "7f825b43-9c99-40c6-e91a-972627dc1321"
      },
      "execution_count": 19,
      "outputs": [
        {
          "output_type": "execute_result",
          "data": {
            "text/plain": [
              "                                            Filename  \\\n",
              "0  /content/gdrive/MyDrive/Colab_Notebooks/ECE720...   \n",
              "1  /content/gdrive/MyDrive/Colab_Notebooks/ECE720...   \n",
              "2  /content/gdrive/MyDrive/Colab_Notebooks/ECE720...   \n",
              "3  /content/gdrive/MyDrive/Colab_Notebooks/ECE720...   \n",
              "4  /content/gdrive/MyDrive/Colab_Notebooks/ECE720...   \n",
              "5  /content/gdrive/MyDrive/Colab_Notebooks/ECE720...   \n",
              "6  /content/gdrive/MyDrive/Colab_Notebooks/ECE720...   \n",
              "7  /content/gdrive/MyDrive/Colab_Notebooks/ECE720...   \n",
              "8  /content/gdrive/MyDrive/Colab_Notebooks/ECE720...   \n",
              "\n",
              "                              Code  LineNumber  \n",
              "0  model.add(BatchNormalization())          12  \n",
              "1          model.add(Dropout(0.5))          14  \n",
              "2  model.add(BatchNormalization())          18  \n",
              "3          model.add(Dropout(0.5))          20  \n",
              "4  model.add(BatchNormalization())          24  \n",
              "5          model.add(Dropout(0.5))           6  \n",
              "6  model.add(BatchNormalization())           7  \n",
              "7          model.add(Dropout(0.5))           6  \n",
              "8  model.add(BatchNormalization())           7  "
            ],
            "text/html": [
              "\n",
              "  <div id=\"df-0960d4f0-35bb-4775-b7cb-24e7c2fd8e26\">\n",
              "    <div class=\"colab-df-container\">\n",
              "      <div>\n",
              "<style scoped>\n",
              "    .dataframe tbody tr th:only-of-type {\n",
              "        vertical-align: middle;\n",
              "    }\n",
              "\n",
              "    .dataframe tbody tr th {\n",
              "        vertical-align: top;\n",
              "    }\n",
              "\n",
              "    .dataframe thead th {\n",
              "        text-align: right;\n",
              "    }\n",
              "</style>\n",
              "<table border=\"1\" class=\"dataframe\">\n",
              "  <thead>\n",
              "    <tr style=\"text-align: right;\">\n",
              "      <th></th>\n",
              "      <th>Filename</th>\n",
              "      <th>Code</th>\n",
              "      <th>LineNumber</th>\n",
              "    </tr>\n",
              "  </thead>\n",
              "  <tbody>\n",
              "    <tr>\n",
              "      <th>0</th>\n",
              "      <td>/content/gdrive/MyDrive/Colab_Notebooks/ECE720...</td>\n",
              "      <td>model.add(BatchNormalization())</td>\n",
              "      <td>12</td>\n",
              "    </tr>\n",
              "    <tr>\n",
              "      <th>1</th>\n",
              "      <td>/content/gdrive/MyDrive/Colab_Notebooks/ECE720...</td>\n",
              "      <td>model.add(Dropout(0.5))</td>\n",
              "      <td>14</td>\n",
              "    </tr>\n",
              "    <tr>\n",
              "      <th>2</th>\n",
              "      <td>/content/gdrive/MyDrive/Colab_Notebooks/ECE720...</td>\n",
              "      <td>model.add(BatchNormalization())</td>\n",
              "      <td>18</td>\n",
              "    </tr>\n",
              "    <tr>\n",
              "      <th>3</th>\n",
              "      <td>/content/gdrive/MyDrive/Colab_Notebooks/ECE720...</td>\n",
              "      <td>model.add(Dropout(0.5))</td>\n",
              "      <td>20</td>\n",
              "    </tr>\n",
              "    <tr>\n",
              "      <th>4</th>\n",
              "      <td>/content/gdrive/MyDrive/Colab_Notebooks/ECE720...</td>\n",
              "      <td>model.add(BatchNormalization())</td>\n",
              "      <td>24</td>\n",
              "    </tr>\n",
              "    <tr>\n",
              "      <th>5</th>\n",
              "      <td>/content/gdrive/MyDrive/Colab_Notebooks/ECE720...</td>\n",
              "      <td>model.add(Dropout(0.5))</td>\n",
              "      <td>6</td>\n",
              "    </tr>\n",
              "    <tr>\n",
              "      <th>6</th>\n",
              "      <td>/content/gdrive/MyDrive/Colab_Notebooks/ECE720...</td>\n",
              "      <td>model.add(BatchNormalization())</td>\n",
              "      <td>7</td>\n",
              "    </tr>\n",
              "    <tr>\n",
              "      <th>7</th>\n",
              "      <td>/content/gdrive/MyDrive/Colab_Notebooks/ECE720...</td>\n",
              "      <td>model.add(Dropout(0.5))</td>\n",
              "      <td>6</td>\n",
              "    </tr>\n",
              "    <tr>\n",
              "      <th>8</th>\n",
              "      <td>/content/gdrive/MyDrive/Colab_Notebooks/ECE720...</td>\n",
              "      <td>model.add(BatchNormalization())</td>\n",
              "      <td>7</td>\n",
              "    </tr>\n",
              "  </tbody>\n",
              "</table>\n",
              "</div>\n",
              "      <button class=\"colab-df-convert\" onclick=\"convertToInteractive('df-0960d4f0-35bb-4775-b7cb-24e7c2fd8e26')\"\n",
              "              title=\"Convert this dataframe to an interactive table.\"\n",
              "              style=\"display:none;\">\n",
              "        \n",
              "  <svg xmlns=\"http://www.w3.org/2000/svg\" height=\"24px\"viewBox=\"0 0 24 24\"\n",
              "       width=\"24px\">\n",
              "    <path d=\"M0 0h24v24H0V0z\" fill=\"none\"/>\n",
              "    <path d=\"M18.56 5.44l.94 2.06.94-2.06 2.06-.94-2.06-.94-.94-2.06-.94 2.06-2.06.94zm-11 1L8.5 8.5l.94-2.06 2.06-.94-2.06-.94L8.5 2.5l-.94 2.06-2.06.94zm10 10l.94 2.06.94-2.06 2.06-.94-2.06-.94-.94-2.06-.94 2.06-2.06.94z\"/><path d=\"M17.41 7.96l-1.37-1.37c-.4-.4-.92-.59-1.43-.59-.52 0-1.04.2-1.43.59L10.3 9.45l-7.72 7.72c-.78.78-.78 2.05 0 2.83L4 21.41c.39.39.9.59 1.41.59.51 0 1.02-.2 1.41-.59l7.78-7.78 2.81-2.81c.8-.78.8-2.07 0-2.86zM5.41 20L4 18.59l7.72-7.72 1.47 1.35L5.41 20z\"/>\n",
              "  </svg>\n",
              "      </button>\n",
              "      \n",
              "  <style>\n",
              "    .colab-df-container {\n",
              "      display:flex;\n",
              "      flex-wrap:wrap;\n",
              "      gap: 12px;\n",
              "    }\n",
              "\n",
              "    .colab-df-convert {\n",
              "      background-color: #E8F0FE;\n",
              "      border: none;\n",
              "      border-radius: 50%;\n",
              "      cursor: pointer;\n",
              "      display: none;\n",
              "      fill: #1967D2;\n",
              "      height: 32px;\n",
              "      padding: 0 0 0 0;\n",
              "      width: 32px;\n",
              "    }\n",
              "\n",
              "    .colab-df-convert:hover {\n",
              "      background-color: #E2EBFA;\n",
              "      box-shadow: 0px 1px 2px rgba(60, 64, 67, 0.3), 0px 1px 3px 1px rgba(60, 64, 67, 0.15);\n",
              "      fill: #174EA6;\n",
              "    }\n",
              "\n",
              "    [theme=dark] .colab-df-convert {\n",
              "      background-color: #3B4455;\n",
              "      fill: #D2E3FC;\n",
              "    }\n",
              "\n",
              "    [theme=dark] .colab-df-convert:hover {\n",
              "      background-color: #434B5C;\n",
              "      box-shadow: 0px 1px 3px 1px rgba(0, 0, 0, 0.15);\n",
              "      filter: drop-shadow(0px 1px 2px rgba(0, 0, 0, 0.3));\n",
              "      fill: #FFFFFF;\n",
              "    }\n",
              "  </style>\n",
              "\n",
              "      <script>\n",
              "        const buttonEl =\n",
              "          document.querySelector('#df-0960d4f0-35bb-4775-b7cb-24e7c2fd8e26 button.colab-df-convert');\n",
              "        buttonEl.style.display =\n",
              "          google.colab.kernel.accessAllowed ? 'block' : 'none';\n",
              "\n",
              "        async function convertToInteractive(key) {\n",
              "          const element = document.querySelector('#df-0960d4f0-35bb-4775-b7cb-24e7c2fd8e26');\n",
              "          const dataTable =\n",
              "            await google.colab.kernel.invokeFunction('convertToInteractive',\n",
              "                                                     [key], {});\n",
              "          if (!dataTable) return;\n",
              "\n",
              "          const docLinkHtml = 'Like what you see? Visit the ' +\n",
              "            '<a target=\"_blank\" href=https://colab.research.google.com/notebooks/data_table.ipynb>data table notebook</a>'\n",
              "            + ' to learn more about interactive tables.';\n",
              "          element.innerHTML = '';\n",
              "          dataTable['output_type'] = 'display_data';\n",
              "          await google.colab.output.renderOutput(dataTable, element);\n",
              "          const docLink = document.createElement('div');\n",
              "          docLink.innerHTML = docLinkHtml;\n",
              "          element.appendChild(docLink);\n",
              "        }\n",
              "      </script>\n",
              "    </div>\n",
              "  </div>\n",
              "  "
            ]
          },
          "metadata": {},
          "execution_count": 19
        }
      ]
    }
  ]
}