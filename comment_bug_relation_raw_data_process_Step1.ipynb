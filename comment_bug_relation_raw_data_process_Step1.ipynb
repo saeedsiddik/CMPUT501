{
 "cells": [
  {
   "cell_type": "code",
   "execution_count": 18,
   "metadata": {},
   "outputs": [],
   "source": [
    "import pickle\n",
    "import json\n",
    "import random\n",
    "import re"
   ]
  },
  {
   "cell_type": "code",
   "execution_count": 35,
   "metadata": {},
   "outputs": [],
   "source": [
    "with open (\"Bug.txt\", \"r\") as f:\n",
    "    contents = f.readlines()"
   ]
  },
  {
   "cell_type": "code",
   "execution_count": 44,
   "metadata": {},
   "outputs": [],
   "source": [
    "with open (\"NoBug.txt\", \"r\") as f:\n",
    "    contents = f.readlines()"
   ]
  },
  {
   "cell_type": "code",
   "execution_count": 36,
   "metadata": {},
   "outputs": [],
   "source": [
    "def data_preprocessing_reset():\n",
    "    code = \"\"\n",
    "    code_line_count = 0\n",
    "    number_of_code_lines = 0\n",
    "\n",
    "    comment = \"\"\n",
    "    comment_line_count = 0\n",
    "    number_of_comment_lines = 0\n",
    "    \n",
    "    line_status = \"\"\n",
    "    \n",
    "    return code, code_line_count, number_of_code_lines, comment, comment_line_count, number_of_comment_lines, line_status"
   ]
  },
  {
   "cell_type": "code",
   "execution_count": 40,
   "metadata": {},
   "outputs": [],
   "source": [
    "def data_preprocessing_for_code_comment_pair(data_mood_whether_bug_or_not):    \n",
    "    code, code_line_count, number_of_code_lines, comment, comment_line_count, number_of_comment_lines, line_status = data_preprocessing_reset()\n",
    "    code_comment_mood_count = 0\n",
    "    pairs_bug = []\n",
    "\n",
    "    for line in contents:\n",
    "        line = line.replace(\"\\n\", \"\").strip()\n",
    "\n",
    "        if data_mood_whether_bug_or_not in line:\n",
    "            pairs_bug.append({\"code\":code, \"comment\":comment, \"coherence\":1})\n",
    "            code, code_line_count, number_of_code_lines, comment, comment_line_count, number_of_comment_lines, line_status = data_preprocessing_reset()\n",
    "\n",
    "\n",
    "        if line.isdigit():\n",
    "            if (code_comment_mood_count % 2 == 0):\n",
    "                line_status = \"comment\"\n",
    "                number_of_comment_lines = line.isdigit()\n",
    "            else:\n",
    "                line_status = \"code\"\n",
    "                number_of_code_lines = line.isdigit()\n",
    "\n",
    "            code_comment_mood_count += 1\n",
    "            continue\n",
    "\n",
    "        if line_status == \"comment\":\n",
    "            comment += line\n",
    "        elif (line_status == \"code\"):\n",
    "            code += line\n",
    "            \n",
    "    return pairs_bug"
   ]
  },
  {
   "cell_type": "code",
   "execution_count": 41,
   "metadata": {},
   "outputs": [],
   "source": [
    "pairs_bug = data_preprocessing_for_code_comment_pair(\"#BUG\")"
   ]
  },
  {
   "cell_type": "code",
   "execution_count": 47,
   "metadata": {},
   "outputs": [],
   "source": [
    "pairs_nobug = data_preprocessing_for_code_comment_pair(\"#NoBug\")"
   ]
  },
  {
   "cell_type": "code",
   "execution_count": 48,
   "metadata": {
    "collapsed": true
   },
   "outputs": [
    {
     "data": {
      "text/plain": [
       "[{'code': 'public static void makeCoffee() {Recipe [] recipes = coffeeMaker.getRecipes();for(int i = 0; i < recipes.length; i++) {if (recipes[i] != null) {System.out.println((i+1) + \". \" + recipes[i].getName());}}int recipeToPurchase = recipeListSelection(\"Please select the number of the recipe to purchase.\");String amountPaid = inputOutput(\"Please enter the amount you wish to pay\");int amtPaid = 0;try {amtPaid = Integer.parseInt(amountPaid);} catch (NumberFormatException e) {System.out.println(\"Please enter a positive integer\");mainMenu();}int change = coffeeMaker.makeCoffee(recipeToPurchase, amtPaid);if (change == amtPaid) {System.out.println(\"Insufficient funds to purchase.\");} else {System.out.println(\"Thank you for purchasing \" + coffeeMaker.getRecipes()[recipeToPurchase].getName());}System.out.println(\"Your change is: \" + change + \"\\\\n\");mainMenu();',\n",
       "  'comment': '/*** Make coffee user interface the processes input.*/',\n",
       "  'coherence': 1},\n",
       " {'code': 'public static void deleteRecipe() {Recipe [] recipes = coffeeMaker.getRecipes();for(int i = 0; i < recipes.length; i++) {if (recipes[i] != null) {System.out.println((i+1) + \". \" + recipes[i].getName());}}int recipeToDelete = recipeListSelection(\"Please select the number of the recipe to delete.\");if(recipeToDelete < 0) {mainMenu();}String recipeDeleted = coffeeMaker.deleteRecipe(recipeToDelete);if (recipeDeleted != null) {System.out.println(recipeDeleted + \" successfully deleted.\\\\n\");} else {System.out.println(\"Selected recipe doesn\\'t exist and could not be deleted.\\\\n\");}mainMenu();',\n",
       "  'comment': '/*** Delete recipe user interface that processes input.*/',\n",
       "  'coherence': 1}]"
      ]
     },
     "execution_count": 48,
     "metadata": {},
     "output_type": "execute_result"
    }
   ],
   "source": [
    "pairs_nobug[:2]"
   ]
  },
  {
   "cell_type": "code",
   "execution_count": 49,
   "metadata": {},
   "outputs": [],
   "source": [
    "with open(\"test_nobug.json\",\"w\") as f:\n",
    "    f.write(str(pairs_bug))"
   ]
  }
 ],
 "metadata": {
  "kernelspec": {
   "display_name": "Python 3",
   "language": "python",
   "name": "python3"
  },
  "language_info": {
   "codemirror_mode": {
    "name": "ipython",
    "version": 3
   },
   "file_extension": ".py",
   "mimetype": "text/x-python",
   "name": "python",
   "nbconvert_exporter": "python",
   "pygments_lexer": "ipython3",
   "version": "3.7.7"
  },
  "toc": {
   "base_numbering": 1,
   "nav_menu": {},
   "number_sections": true,
   "sideBar": true,
   "skip_h1_title": false,
   "title_cell": "Table of Contents",
   "title_sidebar": "Contents",
   "toc_cell": false,
   "toc_position": {},
   "toc_section_display": true,
   "toc_window_display": false
  },
  "varInspector": {
   "cols": {
    "lenName": 16,
    "lenType": 16,
    "lenVar": 40
   },
   "kernels_config": {
    "python": {
     "delete_cmd_postfix": "",
     "delete_cmd_prefix": "del ",
     "library": "var_list.py",
     "varRefreshCmd": "print(var_dic_list())"
    },
    "r": {
     "delete_cmd_postfix": ") ",
     "delete_cmd_prefix": "rm(",
     "library": "var_list.r",
     "varRefreshCmd": "cat(var_dic_list()) "
    }
   },
   "types_to_exclude": [
    "module",
    "function",
    "builtin_function_or_method",
    "instance",
    "_Feature"
   ],
   "window_display": false
  }
 },
 "nbformat": 4,
 "nbformat_minor": 4
}
