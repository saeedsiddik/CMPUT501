{
  "nbformat": 4,
  "nbformat_minor": 0,
  "metadata": {
    "colab": {
      "name": "ECE720_Project_code_AST_Creation",
      "provenance": [],
      "collapsed_sections": [],
      "include_colab_link": true
    },
    "kernelspec": {
      "display_name": "Python 3",
      "name": "python3"
    }
  },
  "cells": [
    {
      "cell_type": "markdown",
      "metadata": {
        "id": "view-in-github",
        "colab_type": "text"
      },
      "source": [
        "<a href=\"https://colab.research.google.com/github/saeedsiddik/CMPUT501/blob/main/ECE720_Project_code_AST_Creation.ipynb\" target=\"_parent\"><img src=\"https://colab.research.google.com/assets/colab-badge.svg\" alt=\"Open In Colab\"/></a>"
      ]
    },
    {
      "cell_type": "markdown",
      "metadata": {
        "id": "5fCEDCU_qrC0"
      },
      "source": [
        "<!-- <p><img alt=\"Colaboratory logo\" height=\"45px\" src=\"/img/colab_favicon.ico\" align=\"left\" hspace=\"10px\" vspace=\"0px\"></p>\n",
        "\n",
        "<h1>Connect with Drive</h1> -->\n",
        "\n",
        "# Connect with Drive\n",
        "\n",
        "Key:  4/1AX4XfWjffjoCldN_V4b5jn_nXXIJ-42TXr3yXEVprSkL1tMH2CW0oI3VTsQ\n",
        "\n"
      ]
    },
    {
      "cell_type": "code",
      "metadata": {
        "id": "FvDAHZCL5bmQ",
        "colab": {
          "base_uri": "https://localhost:8080/"
        },
        "outputId": "0cb53ef1-84cc-4e40-e197-47c98f73ba10"
      },
      "source": [
        "from google.colab import drive\n",
        "drive.mount('/content/drive')"
      ],
      "execution_count": null,
      "outputs": [
        {
          "output_type": "stream",
          "name": "stdout",
          "text": [
            "Mounted at /content/drive\n"
          ]
        }
      ]
    },
    {
      "cell_type": "code",
      "metadata": {
        "id": "wPN8ELzf72ty"
      },
      "source": [
        "import glob\n",
        "import os"
      ],
      "execution_count": null,
      "outputs": []
    },
    {
      "cell_type": "code",
      "metadata": {
        "id": "jwVVWaWnCduY"
      },
      "source": [
        "# folder_path = '/content/drive/MyDrive/Colab_Notebooks/data_selected_100/converted_files_manual_raw_code/'\n",
        "\n",
        "folder_path = '/content/drive/MyDrive/Colab_Notebooks/data_selected_100/converted_files_nbconvert/'\n"
      ],
      "execution_count": null,
      "outputs": []
    },
    {
      "cell_type": "code",
      "metadata": {
        "id": "4uFtcxk3I4vt"
      },
      "source": [
        "# ualberta drive\n",
        "folder_path = '/content/drive/MyDrive/Colab_Notebooks/data_ece720/Data1000/'\n"
      ],
      "execution_count": null,
      "outputs": []
    },
    {
      "cell_type": "markdown",
      "metadata": {
        "id": "SuEw85CBOPLm"
      },
      "source": [
        "# Convert ipynb to py nbconvert\n"
      ]
    },
    {
      "cell_type": "markdown",
      "metadata": {
        "id": "exquF_mcjHzZ"
      },
      "source": [
        "## get all notebook files"
      ]
    },
    {
      "cell_type": "code",
      "metadata": {
        "id": "qkLvo3KgJrvy"
      },
      "source": [
        "notebook_filenames_list = glob.glob(os.path.join(folder_path, '*.ipynb'))"
      ],
      "execution_count": null,
      "outputs": []
    },
    {
      "cell_type": "code",
      "metadata": {
        "colab": {
          "base_uri": "https://localhost:8080/"
        },
        "id": "fcAeGepjJ2Wc",
        "outputId": "0418093f-ab5c-4478-9fd2-412ee9e40c51"
      },
      "source": [
        "len(notebook_filenames_list)"
      ],
      "execution_count": null,
      "outputs": [
        {
          "output_type": "execute_result",
          "data": {
            "text/plain": [
              "1000"
            ]
          },
          "metadata": {},
          "execution_count": 21
        }
      ]
    },
    {
      "cell_type": "code",
      "metadata": {
        "colab": {
          "base_uri": "https://localhost:8080/"
        },
        "id": "6PrmoFrXJ_PW",
        "outputId": "8987e72c-b5a5-4cf8-d468-2eec8c4e7fb7"
      },
      "source": [
        "notebook_filenames_list[:10]"
      ],
      "execution_count": null,
      "outputs": [
        {
          "output_type": "execute_result",
          "data": {
            "text/plain": [
              "['/content/drive/MyDrive/Colab_Notebooks/data_ece720/Data1000/dysonlin_quake-forecast-by-air-voltage-signals.ipynb',\n",
              " '/content/drive/MyDrive/Colab_Notebooks/data_ece720/Data1000/kerneler_starter-4cef3e0b-b.ipynb',\n",
              " '/content/drive/MyDrive/Colab_Notebooks/data_ece720/Data1000/kerneler_starter-bengali-grapheme-128-79b684e9-1.ipynb',\n",
              " '/content/drive/MyDrive/Colab_Notebooks/data_ece720/Data1000/nikhilpandey360_transfer-learning-on-inception.ipynb',\n",
              " '/content/drive/MyDrive/Colab_Notebooks/data_ece720/Data1000/goshikhar_airline-severity-val.ipynb',\n",
              " '/content/drive/MyDrive/Colab_Notebooks/data_ece720/Data1000/misteromelet_titanic-first-kaggle-competition.ipynb',\n",
              " '/content/drive/MyDrive/Colab_Notebooks/data_ece720/Data1000/heyytanay_fooling-the-sign-language-classifier-using-fgsm.ipynb',\n",
              " '/content/drive/MyDrive/Colab_Notebooks/data_ece720/Data1000/kerneler_starter-nba-l2m-111772e9-d.ipynb',\n",
              " '/content/drive/MyDrive/Colab_Notebooks/data_ece720/Data1000/gauthampaik_bmw-prices-using-linear-regression.ipynb',\n",
              " '/content/drive/MyDrive/Colab_Notebooks/data_ece720/Data1000/trebuh_exercise-lists.ipynb']"
            ]
          },
          "metadata": {},
          "execution_count": 22
        }
      ]
    },
    {
      "cell_type": "code",
      "metadata": {
        "id": "F2Bi2ejwPDhX"
      },
      "source": [
        "for filename in notebook_filenames_list[900:1000]:\n",
        "  !jupyter nbconvert --to script $filename >> runLog.txt"
      ],
      "execution_count": null,
      "outputs": []
    },
    {
      "cell_type": "code",
      "metadata": {
        "id": "1cD9fH1aOpmX"
      },
      "source": [
        "asts_code = []"
      ],
      "execution_count": null,
      "outputs": []
    },
    {
      "cell_type": "markdown",
      "metadata": {
        "id": "NcpU_qNdkLtv"
      },
      "source": [
        "## get all python file"
      ]
    },
    {
      "cell_type": "code",
      "metadata": {
        "id": "jGqzynODjy5f"
      },
      "source": [
        "python_filenames_list = glob.glob(os.path.join(folder_path, '*.py'))"
      ],
      "execution_count": null,
      "outputs": []
    },
    {
      "cell_type": "code",
      "metadata": {
        "colab": {
          "base_uri": "https://localhost:8080/"
        },
        "id": "ynCk04CJj4J6",
        "outputId": "6d728367-4f5f-4e65-b78f-ac145aa2fdd4"
      },
      "source": [
        "len(python_filenames_list)"
      ],
      "execution_count": null,
      "outputs": [
        {
          "output_type": "execute_result",
          "data": {
            "text/plain": [
              "0"
            ]
          },
          "metadata": {},
          "execution_count": 40
        }
      ]
    },
    {
      "cell_type": "code",
      "metadata": {
        "colab": {
          "base_uri": "https://localhost:8080/"
        },
        "id": "E0KeeyrckQWD",
        "outputId": "28a459c3-9f33-4e66-e7f0-7879359e4186"
      },
      "source": [
        "python_filenames_list[:10]"
      ],
      "execution_count": null,
      "outputs": [
        {
          "output_type": "execute_result",
          "data": {
            "text/plain": [
              "['/content/drive/MyDrive/Colab_Notebooks/data_ece720/Data1000/dysonlin_quake-forecast-by-air-voltage-signals.py',\n",
              " '/content/drive/MyDrive/Colab_Notebooks/data_ece720/Data1000/kerneler_starter-4cef3e0b-b.py',\n",
              " '/content/drive/MyDrive/Colab_Notebooks/data_ece720/Data1000/kerneler_starter-bengali-grapheme-128-79b684e9-1.py',\n",
              " '/content/drive/MyDrive/Colab_Notebooks/data_ece720/Data1000/nikhilpandey360_transfer-learning-on-inception.py',\n",
              " '/content/drive/MyDrive/Colab_Notebooks/data_ece720/Data1000/goshikhar_airline-severity-val.py',\n",
              " '/content/drive/MyDrive/Colab_Notebooks/data_ece720/Data1000/misteromelet_titanic-first-kaggle-competition.py',\n",
              " '/content/drive/MyDrive/Colab_Notebooks/data_ece720/Data1000/heyytanay_fooling-the-sign-language-classifier-using-fgsm.py',\n",
              " '/content/drive/MyDrive/Colab_Notebooks/data_ece720/Data1000/kerneler_starter-nba-l2m-111772e9-d.py',\n",
              " '/content/drive/MyDrive/Colab_Notebooks/data_ece720/Data1000/gauthampaik_bmw-prices-using-linear-regression.py',\n",
              " '/content/drive/MyDrive/Colab_Notebooks/data_ece720/Data1000/trebuh_exercise-lists.py']"
            ]
          },
          "metadata": {},
          "execution_count": 25
        }
      ]
    },
    {
      "cell_type": "code",
      "metadata": {
        "id": "wsK4ZeJlkm-4"
      },
      "source": [
        "import shutil\n",
        "import os"
      ],
      "execution_count": null,
      "outputs": []
    },
    {
      "cell_type": "code",
      "metadata": {
        "id": "jlWJeZinkoop"
      },
      "source": [
        "destination_src_pythonfile = '/content/drive/MyDrive/Colab_Notebooks/data_ece720/Data1000/converted_files_nbconvert/'\n",
        "\n",
        "for python_filename in python_filenames_list[5:]:\n",
        "  only_filename = python_filename.split('/')[-1]\n",
        "  shutil.move(python_filename, destination_src_pythonfile + only_filename)\n",
        "\n",
        "  # print(python_filename, destination_src_pythonfile + only_filename)\n"
      ],
      "execution_count": null,
      "outputs": []
    },
    {
      "cell_type": "code",
      "metadata": {
        "id": "Pjrv6w9tl256"
      },
      "source": [
        "python_moved_filenames_list = glob.glob(os.path.join(destination_src_pythonfile, '*.py'))\n"
      ],
      "execution_count": null,
      "outputs": []
    },
    {
      "cell_type": "code",
      "metadata": {
        "colab": {
          "base_uri": "https://localhost:8080/"
        },
        "id": "WlSTJ-7GmHvt",
        "outputId": "c9fdd7c7-a602-4d40-af75-b878de91e2e6"
      },
      "source": [
        "len(python_moved_filenames_list)"
      ],
      "execution_count": null,
      "outputs": [
        {
          "output_type": "execute_result",
          "data": {
            "text/plain": [
              "988"
            ]
          },
          "metadata": {},
          "execution_count": 38
        }
      ]
    },
    {
      "cell_type": "markdown",
      "metadata": {
        "id": "-rloU5YUE3h7"
      },
      "source": [
        "# AST "
      ]
    },
    {
      "cell_type": "markdown",
      "metadata": {
        "id": "UdRyKR44dcNI"
      },
      "source": [
        "## Data Loading and Code Preparation for AST \n",
        "\n"
      ]
    },
    {
      "cell_type": "code",
      "metadata": {
        "id": "lawEUDM6m1bj"
      },
      "source": [
        "python_files_for_ast = glob.glob(os.path.join(destination_src_pythonfile, '*.py'))"
      ],
      "execution_count": null,
      "outputs": []
    },
    {
      "cell_type": "code",
      "metadata": {
        "colab": {
          "base_uri": "https://localhost:8080/"
        },
        "id": "ivbaT2Pmm2lJ",
        "outputId": "34eb59d1-3b0f-4e21-e73b-5e46edf877e3"
      },
      "source": [
        "len(python_files_for_ast)\n",
        "python_files_for_ast[:10]"
      ],
      "execution_count": null,
      "outputs": [
        {
          "output_type": "execute_result",
          "data": {
            "text/plain": [
              "['/content/drive/MyDrive/Colab_Notebooks/data_ece720/Data1000/converted_files_nbconvert/dysonlin_quake-forecast-by-air-voltage-signals.py',\n",
              " '/content/drive/MyDrive/Colab_Notebooks/data_ece720/Data1000/converted_files_nbconvert/kerneler_starter-4cef3e0b-b.py',\n",
              " '/content/drive/MyDrive/Colab_Notebooks/data_ece720/Data1000/converted_files_nbconvert/kerneler_starter-bengali-grapheme-128-79b684e9-1.py',\n",
              " '/content/drive/MyDrive/Colab_Notebooks/data_ece720/Data1000/converted_files_nbconvert/nikhilpandey360_transfer-learning-on-inception.py',\n",
              " '/content/drive/MyDrive/Colab_Notebooks/data_ece720/Data1000/converted_files_nbconvert/goshikhar_airline-severity-val.py',\n",
              " '/content/drive/MyDrive/Colab_Notebooks/data_ece720/Data1000/converted_files_nbconvert/misteromelet_titanic-first-kaggle-competition.py',\n",
              " '/content/drive/MyDrive/Colab_Notebooks/data_ece720/Data1000/converted_files_nbconvert/heyytanay_fooling-the-sign-language-classifier-using-fgsm.py',\n",
              " '/content/drive/MyDrive/Colab_Notebooks/data_ece720/Data1000/converted_files_nbconvert/kerneler_starter-nba-l2m-111772e9-d.py',\n",
              " '/content/drive/MyDrive/Colab_Notebooks/data_ece720/Data1000/converted_files_nbconvert/gauthampaik_bmw-prices-using-linear-regression.py',\n",
              " '/content/drive/MyDrive/Colab_Notebooks/data_ece720/Data1000/converted_files_nbconvert/trebuh_exercise-lists.py']"
            ]
          },
          "metadata": {},
          "execution_count": 44
        }
      ]
    },
    {
      "cell_type": "code",
      "metadata": {
        "id": "qBbFcpheDM45"
      },
      "source": [
        "\n",
        "converted_code_for_ast = []\n",
        "for filename in python_files_for_ast:\n",
        "  with open(filename, 'r') as f:\n",
        "    text = f.read()\n",
        "    text = '#'+filename + '\\n' + text \n",
        "    # text = text.replace('%matplotlib inline', '#%matplotlib inline')\n",
        "    # text = text.replace('%load_ext tensorboard', '#%load_ext tensorboard')\n",
        "    converted_code_for_ast.append([filename.split('/')[-1], text])\n",
        "    print (filename, len(text))"
      ],
      "execution_count": null,
      "outputs": []
    },
    {
      "cell_type": "code",
      "metadata": {
        "id": "CvvGGun5FX5u",
        "colab": {
          "base_uri": "https://localhost:8080/"
        },
        "outputId": "271aed0a-6c8c-44af-9fa0-befd130ce57e"
      },
      "source": [
        "len(converted_code_for_ast)"
      ],
      "execution_count": null,
      "outputs": [
        {
          "output_type": "execute_result",
          "data": {
            "text/plain": [
              "988"
            ]
          },
          "metadata": {},
          "execution_count": 46
        }
      ]
    },
    {
      "cell_type": "markdown",
      "metadata": {
        "id": "z2ye9JKDjv4p"
      },
      "source": [
        "## AST Generation"
      ]
    },
    {
      "cell_type": "code",
      "metadata": {
        "colab": {
          "base_uri": "https://localhost:8080/"
        },
        "id": "-FHzSqS5E7lk",
        "outputId": "cddd305a-2ea4-4d7f-9b67-fd4417f49053"
      },
      "source": [
        "! pip install astor"
      ],
      "execution_count": null,
      "outputs": [
        {
          "output_type": "stream",
          "name": "stdout",
          "text": [
            "Requirement already satisfied: astor in /usr/local/lib/python3.7/dist-packages (0.8.1)\n"
          ]
        }
      ]
    },
    {
      "cell_type": "code",
      "metadata": {
        "id": "LzEdSaYhFei5"
      },
      "source": [
        "import ast\n",
        "import astor\n",
        "import logging"
      ],
      "execution_count": null,
      "outputs": []
    },
    {
      "cell_type": "code",
      "metadata": {
        "colab": {
          "base_uri": "https://localhost:8080/"
        },
        "id": "Xw6UvLsLFJtT",
        "outputId": "2068cf54-ce8b-496c-e1c8-0297c784464a"
      },
      "source": [
        "ast_tree_list = []\n",
        "\n",
        "for ast_info in converted_code_for_ast:\n",
        "  ast_filename, ast_code = ast_info[0], ast_info[1]\n",
        " \n",
        "  try:\n",
        "    tree = ast.parse(ast_code)\n",
        "\n",
        "    ast_tree_list.append(ast_filename + \": \" + ast.dump(tree))\n",
        "\n",
        "    # print(\"[Done] \" + ast_filename, ast.dump(tree))\n",
        "  except Exception as e:\n",
        "        logging.error(\"Error Writing \" + str(e) + \"; in File: \" + ast_filename )"
      ],
      "execution_count": null,
      "outputs": [
        {
          "output_type": "stream",
          "name": "stderr",
          "text": [
            "ERROR:root:Error Writing invalid syntax (<unknown>, line 347); in File: a18974761777_kernel38a9909bae.py\n",
            "ERROR:root:Error Writing invalid syntax (<unknown>, line 98); in File: kartik31193_exercise-writing-efficient-queries.py\n",
            "ERROR:root:Error Writing invalid syntax (<unknown>, line 18); in File: martinab_homer-simpson-sentiment-analysis.py\n",
            "ERROR:root:Error Writing unexpected indent (<unknown>, line 123); in File: nouradwai_exercise-model-validation.py\n",
            "ERROR:root:Error Writing invalid syntax (<unknown>, line 1243); in File: reemasebi_search-engine.py\n",
            "ERROR:root:Error Writing invalid syntax (<unknown>, line 857); in File: diegopmayer_tatinic-solution.py\n",
            "ERROR:root:Error Writing invalid syntax (<unknown>, line 89); in File: kayokina_modified-ga-revenue-prediction.py\n",
            "ERROR:root:Error Writing invalid syntax (<unknown>, line 125); in File: rajchenna_testpython.py\n",
            "ERROR:root:Error Writing invalid syntax (<unknown>, line 130); in File: davidthaler_duplicates-of-duplicates.py\n",
            "ERROR:root:Error Writing invalid syntax (<unknown>, line 237); in File: sandip1200_term-deposit-lr.py\n",
            "ERROR:root:Error Writing invalid syntax (<unknown>, line 292); in File: alphaplus_progression-prediction-13-days.py\n",
            "ERROR:root:Error Writing invalid syntax (<unknown>, line 191); in File: arifali77_shapely-values.py\n",
            "ERROR:root:Error Writing invalid character in identifier (<unknown>, line 858); in File: professionalhima_movielens-ml-models.py\n",
            "ERROR:root:Error Writing invalid syntax (<unknown>, line 146); in File: faridsharaf_basic-housing-prices-exercise.py\n",
            "ERROR:root:Error Writing invalid syntax (<unknown>, line 29); in File: nobonita_snn275523.py\n",
            "ERROR:root:Error Writing invalid syntax (<unknown>, line 245); in File: abhatia_kernel04ac4ba586.py\n",
            "ERROR:root:Error Writing invalid syntax (<unknown>, line 54); in File: eligertz_clustering-using-vehicle-and-individual-info.py\n",
            "ERROR:root:Error Writing invalid syntax (<unknown>, line 8); in File: berkinkaplanolu_banking-analyze.py\n",
            "ERROR:root:Error Writing invalid syntax (<unknown>, line 412); in File: jazzang_hcde-530-a3.py\n",
            "ERROR:root:Error Writing invalid syntax (<unknown>, line 1266); in File: sandeepkosanam0625_loan-status-predictive-model.py\n",
            "ERROR:root:Error Writing invalid syntax (<unknown>, line 183); in File: miaoxinwang_hcde-530-a4.py\n",
            "ERROR:root:Error Writing invalid syntax (<unknown>, line 293); in File: nvpsani_basics-of-python-for-data-science.py\n",
            "ERROR:root:Error Writing unexpected indent (<unknown>, line 520); in File: rishabh254_nyc-ola.py\n",
            "ERROR:root:Error Writing invalid syntax (<unknown>, line 637); in File: saptarshi96_eda-feature-engineering-modelling.py\n",
            "ERROR:root:Error Writing invalid syntax (<unknown>, line 18); in File: jmda527_titanic-predict-by-randomforest-jmda.py\n",
            "ERROR:root:Error Writing invalid syntax (<unknown>, line 628); in File: avisheknayak_houses.py\n",
            "ERROR:root:Error Writing invalid syntax (<unknown>, line 58); in File: timdarcet_dogs-v-cats.py\n",
            "ERROR:root:Error Writing invalid character in identifier (<unknown>, line 646); in File: hwmaianxun_eda-feature-engineering-and-everything-dca488.py\n",
            "ERROR:root:Error Writing invalid syntax (<unknown>, line 86); in File: adeephande_mnist-kerascnn.py\n",
            "ERROR:root:Error Writing invalid syntax (<unknown>, line 8); in File: suraj1231_eda-tableauvisualization-basic.py\n",
            "ERROR:root:Error Writing invalid syntax (<unknown>, line 224); in File: igauty_eda-v01.py\n",
            "ERROR:root:Error Writing invalid syntax (<unknown>, line 508); in File: hashimchaudry_titanic-a-basic-ensemble-approach-to-get-top-4.py\n"
          ]
        }
      ]
    },
    {
      "cell_type": "code",
      "metadata": {
        "colab": {
          "base_uri": "https://localhost:8080/"
        },
        "id": "3LsNheiCwuy-",
        "outputId": "7e61e68f-6b5f-4158-86f9-018e7cf066a5"
      },
      "source": [
        "len(ast_tree_list)"
      ],
      "execution_count": null,
      "outputs": [
        {
          "output_type": "execute_result",
          "data": {
            "text/plain": [
              "956"
            ]
          },
          "metadata": {},
          "execution_count": 64
        }
      ]
    },
    {
      "cell_type": "code",
      "metadata": {
        "colab": {
          "base_uri": "https://localhost:8080/",
          "height": 128
        },
        "id": "NH69XHVLNCDn",
        "outputId": "1ea3caef-326f-4dc4-a61b-e6bf9be291de"
      },
      "source": [
        "ast_tree_list[0]"
      ],
      "execution_count": null,
      "outputs": [
        {
          "output_type": "execute_result",
          "data": {
            "application/vnd.google.colaboratory.intrinsic+json": {
              "type": "string"
            },
            "text/plain": [
              "\"dysonlin_quake-forecast-by-air-voltage-signals.py: Module(body=[Import(names=[alias(name='numpy', asname='np')]), Import(names=[alias(name='pandas', asname='pd')]), Import(names=[alias(name='os', asname=None)]), For(target=Tuple(elts=[Name(id='dirname', ctx=Store()), Name(id='_', ctx=Store()), Name(id='filenames', ctx=Store())], ctx=Store()), iter=Call(func=Attribute(value=Name(id='os', ctx=Load()), attr='walk', ctx=Load()), args=[Str(s='/kaggle/input')], keywords=[]), body=[For(target=Name(id='filename', ctx=Store()), iter=Name(id='filenames', ctx=Load()), body=[Expr(value=Call(func=Name(id='print', ctx=Load()), args=[Call(func=Attribute(value=Attribute(value=Name(id='os', ctx=Load()), attr='path', ctx=Load()), attr='join', ctx=Load()), args=[Name(id='dirname', ctx=Load()), Name(id='filename', ctx=Load())], keywords=[])], keywords=[]))], orelse=[])], orelse=[])])\""
            ]
          },
          "metadata": {},
          "execution_count": 65
        }
      ]
    },
    {
      "cell_type": "markdown",
      "metadata": {
        "id": "_8ccD5k4L9O_"
      },
      "source": [
        "## AST write to file"
      ]
    },
    {
      "cell_type": "code",
      "metadata": {
        "id": "ebK7pabSMA_3"
      },
      "source": [
        "# Write-Overwrites\n",
        "file_write_ast = open(folder_path+\"ast_python_1000.txt\", \"w\")  # write mode"
      ],
      "execution_count": null,
      "outputs": []
    },
    {
      "cell_type": "code",
      "metadata": {
        "id": "yCmmITGJLVV4"
      },
      "source": [
        "for ast_tree in ast_tree_list:\n",
        "  file_write_ast.write(ast_tree)\n",
        "\n",
        "file_write_ast.close()"
      ],
      "execution_count": null,
      "outputs": []
    },
    {
      "cell_type": "markdown",
      "metadata": {
        "id": "ch7loRt_7tWN"
      },
      "source": [
        "# Problem/Error Analysis"
      ]
    },
    {
      "cell_type": "markdown",
      "metadata": {
        "id": "d_YhWxliG-6W"
      },
      "source": [
        "## Visualize"
      ]
    },
    {
      "cell_type": "code",
      "metadata": {
        "id": "LWk-RGeQHAjO"
      },
      "source": [
        "! pip install instaviz"
      ],
      "execution_count": null,
      "outputs": []
    },
    {
      "cell_type": "code",
      "metadata": {
        "id": "V4B5lz3oHC_R"
      },
      "source": [
        "import instaviz"
      ],
      "execution_count": null,
      "outputs": []
    },
    {
      "cell_type": "code",
      "metadata": {
        "colab": {
          "base_uri": "https://localhost:8080/"
        },
        "id": "_mpUERSXHM1b",
        "outputId": "0a1f58ea-7c88-4544-fdb3-11658e66b584"
      },
      "source": [
        "instaviz.show(text)"
      ],
      "execution_count": null,
      "outputs": [
        {
          "output_type": "stream",
          "name": "stdout",
          "text": [
            "<class 'str'> is not compiled, could not locate __code__ attribute.\n"
          ]
        }
      ]
    }
  ]
}