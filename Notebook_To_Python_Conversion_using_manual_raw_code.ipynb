{
  "nbformat": 4,
  "nbformat_minor": 0,
  "metadata": {
    "kernelspec": {
      "display_name": "Python 3",
      "language": "python",
      "name": "python3"
    },
    "language_info": {
      "codemirror_mode": {
        "name": "ipython",
        "version": 3
      },
      "file_extension": ".py",
      "mimetype": "text/x-python",
      "name": "python",
      "nbconvert_exporter": "python",
      "pygments_lexer": "ipython3",
      "version": "3.7.3"
    },
    "toc": {
      "base_numbering": 1,
      "nav_menu": {},
      "number_sections": true,
      "sideBar": true,
      "skip_h1_title": false,
      "title_cell": "Table of Contents",
      "title_sidebar": "Contents",
      "toc_cell": false,
      "toc_position": {},
      "toc_section_display": true,
      "toc_window_display": false
    },
    "varInspector": {
      "cols": {
        "lenName": 16,
        "lenType": 16,
        "lenVar": 40
      },
      "kernels_config": {
        "python": {
          "delete_cmd_postfix": "",
          "delete_cmd_prefix": "del ",
          "library": "var_list.py",
          "varRefreshCmd": "print(var_dic_list())"
        },
        "r": {
          "delete_cmd_postfix": ") ",
          "delete_cmd_prefix": "rm(",
          "library": "var_list.r",
          "varRefreshCmd": "cat(var_dic_list()) "
        }
      },
      "types_to_exclude": [
        "module",
        "function",
        "builtin_function_or_method",
        "instance",
        "_Feature"
      ],
      "window_display": false
    },
    "colab": {
      "name": "Notebook_To_Python_Conversion_using_manual_raw_code.ipynb",
      "provenance": [],
      "collapsed_sections": [],
      "include_colab_link": true
    }
  },
  "cells": [
    {
      "cell_type": "markdown",
      "metadata": {
        "id": "view-in-github",
        "colab_type": "text"
      },
      "source": [
        "<a href=\"https://colab.research.google.com/github/saeedsiddik/CMPUT501/blob/main/Notebook_To_Python_Conversion_using_manual_raw_code.ipynb\" target=\"_parent\"><img src=\"https://colab.research.google.com/assets/colab-badge.svg\" alt=\"Open In Colab\"/></a>"
      ]
    },
    {
      "cell_type": "markdown",
      "metadata": {
        "id": "qAU5Z9JPhBuf"
      },
      "source": [
        "# Package import"
      ]
    },
    {
      "cell_type": "code",
      "metadata": {
        "id": "mtF6DmDKhBuh"
      },
      "source": [
        "import os\n",
        "import codecs\n",
        "import json\n",
        "import logging\n",
        "import re"
      ],
      "execution_count": 1,
      "outputs": []
    },
    {
      "cell_type": "markdown",
      "metadata": {
        "id": "glG2bTc3hGvq"
      },
      "source": [
        "# Link to google drive"
      ]
    },
    {
      "cell_type": "code",
      "metadata": {
        "colab": {
          "base_uri": "https://localhost:8080/"
        },
        "id": "tp7DA0_mhJv3",
        "outputId": "09b357b4-7f0c-455b-e88e-4c8e6267a926"
      },
      "source": [
        "from google.colab import drive\n",
        "drive.mount('/content/drive')"
      ],
      "execution_count": 2,
      "outputs": [
        {
          "output_type": "stream",
          "name": "stdout",
          "text": [
            "Mounted at /content/drive\n"
          ]
        }
      ]
    },
    {
      "cell_type": "code",
      "metadata": {
        "id": "CBwJ1B7Bhicm"
      },
      "source": [
        "data_directory = '/content/drive/MyDrive/Colab_Notebooks/data_selected_100/'\n",
        "converted_data_directory = data_directory + '/converted_files'"
      ],
      "execution_count": 3,
      "outputs": []
    },
    {
      "cell_type": "code",
      "metadata": {
        "id": "6tYMIUmahv5-"
      },
      "source": [
        ""
      ],
      "execution_count": null,
      "outputs": []
    },
    {
      "cell_type": "code",
      "metadata": {
        "id": "BWrIrS_ihBui"
      },
      "source": [
        "data_directory = 'data'\n",
        "converted_data_directory = data_directory + '/converted_files'"
      ],
      "execution_count": null,
      "outputs": []
    },
    {
      "cell_type": "markdown",
      "metadata": {
        "id": "akJn6q4MhBuj"
      },
      "source": [
        "# Function Filename Conversion "
      ]
    },
    {
      "cell_type": "code",
      "metadata": {
        "id": "QYtM4_mGhBuj"
      },
      "source": [
        "def filename_conversion(filename):\n",
        "    name = filename.replace('.ipynb', '.py')\n",
        "    return name"
      ],
      "execution_count": 4,
      "outputs": []
    },
    {
      "cell_type": "markdown",
      "metadata": {
        "id": "7rU3gkJthBuj"
      },
      "source": [
        "# Input file selection Conversion "
      ]
    },
    {
      "cell_type": "code",
      "metadata": {
        "id": "a6P1ZQJWlAAl"
      },
      "source": [
        "def input_file_selection_function():\n",
        "    raw_notebook_files = os.listdir(data_directory)\n",
        "\n",
        "    selecetd_input_filenames = []\n",
        "    selecetd_converted_filnames = []\n",
        "\n",
        "    \n",
        "    for filename in raw_notebook_files:        # Pick 20 notebooks for small execution\n",
        "#         if filename.endswith('.ipynb') and filename.startswith('a'):\n",
        "        if filename.endswith('.ipynb'):\n",
        "            selecetd_input_filenames.append(filename)\n",
        "            selecetd_converted_filnames.append(filename_conversion(filename))\n",
        "\n",
        "    return selecetd_input_filenames, selecetd_converted_filnames"
      ],
      "execution_count": 5,
      "outputs": []
    },
    {
      "cell_type": "code",
      "metadata": {
        "colab": {
          "base_uri": "https://localhost:8080/"
        },
        "id": "pzYUnhxxhBuk",
        "outputId": "df647351-81de-4a64-9fb1-0e11b2671774"
      },
      "source": [
        "selecetd_input_filenames, selecetd_converted_filnames = input_file_selection_function()\n",
        "print (len(selecetd_input_filenames))\n"
      ],
      "execution_count": 6,
      "outputs": [
        {
          "output_type": "stream",
          "name": "stdout",
          "text": [
            "100\n"
          ]
        }
      ]
    },
    {
      "cell_type": "code",
      "metadata": {
        "colab": {
          "base_uri": "https://localhost:8080/"
        },
        "id": "l2JRdpssiqMo",
        "outputId": "1e0ea63b-9e5d-434f-b165-5c3b0fbfcba8"
      },
      "source": [
        "print(selecetd_input_filenames[:10])"
      ],
      "execution_count": 12,
      "outputs": [
        {
          "output_type": "stream",
          "name": "stdout",
          "text": [
            "['zisu0426_a-begining-try.ipynb', 'kerneler_starter-msme-country-indicators-and-c73d2997-2.ipynb', 'jeffkk_guessing-the-objects-behind-the-classes.ipynb', 'ameerkhoso_indexing-selecting-assigning.ipynb', 'albou59_data-cleaning-challenge-handling-missing-v-3e8c4a.ipynb', 'tezdhar_map-ad-durations.ipynb', 'lini2390_video-game-sales-visualisation.ipynb', 'kalaychkan_evaluation-of-classification-algo-for-ham-spam.ipynb', 'canonwu_notebookbc0d2b7586.ipynb', 'hwmaianxun_eda-feature-engineering-and-everything-dca488.ipynb']\n"
          ]
        }
      ]
    },
    {
      "cell_type": "markdown",
      "metadata": {
        "id": "u4r6PW3VlGeT"
      },
      "source": [
        "# Input file processing\n",
        "The input ipynb files are processed individually. \n",
        "\n",
        "<!-- I have also checked the ML related packages and separate the file names based on their existence.  -->\n",
        "\n",
        "I have also checked the bash script inside the code and commented those. \n",
        "\n",
        "Converted every single executable lines to Python3.6 code"
      ]
    },
    {
      "cell_type": "code",
      "metadata": {
        "id": "KOD7M2lTlHt8"
      },
      "source": [
        "import_package_list_with_file_name = []\n",
        "import_package_list_with_file_name.append(\"FileName\"+ \",\" + \"Package\" + \",\" + \"Code\" + \"\\n\")"
      ],
      "execution_count": 7,
      "outputs": []
    },
    {
      "cell_type": "markdown",
      "metadata": {
        "id": "0gyaGtrAlrgU"
      },
      "source": [
        "# Import package checking function"
      ]
    },
    {
      "cell_type": "code",
      "metadata": {
        "id": "orHHKzbDluhc"
      },
      "source": [
        "def import_package_checking(file_name, code_line_contains_import):\n",
        "    code_token = code_line_contains_import.split(\" \")\n",
        "    \n",
        "    if ((code_token[0] == 'import') or (code_token[0] == 'from')):\n",
        "        \n",
        "# pick the imported package info\n",
        "        code_token_package = code_token[1]     \n",
        "\n",
        "# However, there might be specific import using from keyword, which have a dot(.) between package and function\n",
        "        import_package_token = code_token_package.split(\".\")[0]\n",
        "    \n",
        "        import_package_list_with_file_name.append(file_name + \",\" + import_package_token + \",\" + code_line_contains_import + \"\\n\")\n",
        "        "
      ],
      "execution_count": 8,
      "outputs": []
    },
    {
      "cell_type": "markdown",
      "metadata": {
        "id": "l2qgOhvnlx9n"
      },
      "source": [
        "# write import package name in a csv file"
      ]
    },
    {
      "cell_type": "code",
      "metadata": {
        "id": "FNTsRPgRl1DJ"
      },
      "source": [
        "def write_to_file_import_package_list_with_file_name(filename, import_package_list_with_file_name):\n",
        "    try:\n",
        "        write_to_file = open(filename, \"w\")\n",
        "        write_to_file.flush()\n",
        "        \n",
        "        for content in import_package_list_with_file_name:\n",
        "            write_to_file.write(content)\n",
        "        \n",
        "        write_to_file.close()\n",
        "    except Exception as e:\n",
        "        logging.error(\"Error Writing \" + str(e) + \"; in File: \" + filename )"
      ],
      "execution_count": 9,
      "outputs": []
    },
    {
      "cell_type": "markdown",
      "metadata": {
        "id": "iax3zPk0l3dD"
      },
      "source": [
        "# Notebook processing cell by cell manully raw code"
      ]
    },
    {
      "cell_type": "code",
      "metadata": {
        "id": "M55mhexml6kb"
      },
      "source": [
        "magic_functions_list = []\n",
        "bash_scripts_list = []\n",
        "\n",
        "def input_notebbok_processing_for_python_code(input_file_source_content, input_file_name):\n",
        "    # ml_related_code_flag = False\n",
        "    # ml_related_package_import = False\n",
        "\n",
        "    json_content_of_file = json.loads(input_file_source_content)\n",
        "    pySource = '### PythonConversion from ' + input_file_name + ' to ' + converted_file_name + ' ###\\n'\n",
        "    \n",
        "    for file_content in json_content_of_file['cells']:\n",
        "\n",
        "        try:\n",
        "          if file_content['cell_type'] == 'code': \n",
        "\n",
        "              if isinstance(file_content['source'], str):            \n",
        "                  code_lines = file_content['source'].split(\"\\n\")\n",
        "                  for code_line in code_lines:\n",
        "                    code_line_draft = code_line.strip()\n",
        "                    if (code_line_draft.startswith('!')):\n",
        "                      nonexecutable_code_line = '# ' + code_line_draft\n",
        "                      bash_scripts_list.append([input_file_name, nonexecutable_code_line])\n",
        "                      pySource = pySource + nonexecutable_code_line + \"\\n\"\n",
        "                      \n",
        "                    elif (code_line_draft.startswith('%')):\n",
        "                      nonexecutable_code_line = '# ' + code_line_draft\n",
        "                      magic_functions_list.append([input_file_name, nonexecutable_code_line])\n",
        "                      pySource = pySource + nonexecutable_code_line + \"\\n\"\n",
        "                    \n",
        "                    else:\n",
        "                      pySource = pySource + code_line + \"\\n\"\n",
        "              \n",
        "              \n",
        "              elif isinstance(file_content['source'], list):     \n",
        "\n",
        "                  for code_line in file_content['source']:\n",
        "                    code_line_draft = code_line.strip()\n",
        "                    if (code_line_draft.startswith('!')):\n",
        "                      nonexecutable_code_line = '# ' + code_line_draft\n",
        "                      bash_scripts_list.append([input_file_name, nonexecutable_code_line])\n",
        "                      pySource = pySource + nonexecutable_code_line + \"\\n\"\n",
        "                      \n",
        "                    elif (code_line_draft.startswith('%')):\n",
        "                      nonexecutable_code_line = '# ' + code_line_draft\n",
        "                      magic_functions_list.append([input_file_name, nonexecutable_code_line])\n",
        "                      pySource = pySource + nonexecutable_code_line + \"\\n\"\n",
        "                    \n",
        "                    else:\n",
        "                      pySource = pySource + code_line + \"\\n\"\n",
        "\n",
        "                              \n",
        "          elif file_content['cell_type'] == 'markdown':\n",
        "              for code_line in file_content['source']:\n",
        "                  markdown_line_draft = code_line.strip()\n",
        "                  markdown_line = '# ' + markdown_line_draft\n",
        "                  pySource = pySource + markdown_line\n",
        "                  if code_line[-1] != '\\n':\n",
        "                      pySource = pySource + '\\n'\n",
        "                  pySource = pySource + '\\n'\n",
        "\n",
        "        except Exception as e:\n",
        "          logging.error(\"Error \" + str(e) + \"; in File: \" + input_file_name )\n",
        "          print(file_content['source'])\n",
        "\n",
        "    # if (ml_related_code_flag):\n",
        "    #     ml_related_notebooks_names.append(input_file_name)\n",
        "    # else:\n",
        "    #     traditional_notebooks_names.append(input_file_name)\n",
        "    \n",
        "    # if len(bash_scripts_list):\n",
        "    #   print (bash_scripts_list)\n",
        "    # if len(magic_functions_list):\n",
        "    #   print (magic_functions_list)\n",
        "\n",
        "    return pySource"
      ],
      "execution_count": 102,
      "outputs": []
    },
    {
      "cell_type": "markdown",
      "metadata": {
        "id": "P3eHn2ZfhBuk"
      },
      "source": [
        "# Write to converted files "
      ]
    },
    {
      "cell_type": "markdown",
      "metadata": {
        "id": "DbuT0DTkjCxg"
      },
      "source": [
        "## write the distribution of non executable lines"
      ]
    },
    {
      "cell_type": "code",
      "metadata": {
        "id": "Hv47IAzicDTI"
      },
      "source": [
        "write_to_nonexecutable_code_log(magic_functions_list, \"magic_function_conversion_log.csv\")"
      ],
      "execution_count": 114,
      "outputs": []
    },
    {
      "cell_type": "code",
      "metadata": {
        "id": "VXCqXxPWbnUk"
      },
      "source": [
        "def write_to_nonexecutable_code_log(info_list, filename):\n",
        "    try:\n",
        "        write_to_file = open(converted_data_directory + filename, \"w\")\n",
        "        for content in info_list:\n",
        "          write_to_file.write(content[0] + \",\" + content[1] + \"\\n\")\n",
        "        write_to_file.close()\n",
        "    except Exception as e:\n",
        "        logging.error(\"Error Writing \" + str(e) + \"; in File: \" + filename )"
      ],
      "execution_count": 112,
      "outputs": []
    },
    {
      "cell_type": "markdown",
      "metadata": {
        "id": "4og-7lZVi8kI"
      },
      "source": [
        "## Write to new .py file"
      ]
    },
    {
      "cell_type": "code",
      "metadata": {
        "id": "-Pjlo1muhBul"
      },
      "source": [
        "def write_to_the_converted_file(pySource_content, converted_file_name):\n",
        "    try:\n",
        "        write_to_file = open(converted_data_directory + \"/\" + converted_file_name, \"w\")\n",
        "        write_to_file.write(pySource_content)\n",
        "        write_to_file.close()\n",
        "    except Exception as e:\n",
        "        logging.error(\"Error Writing \" + str(e) + \"; in File: \" + converted_file_name )"
      ],
      "execution_count": 12,
      "outputs": []
    },
    {
      "cell_type": "code",
      "metadata": {
        "id": "lPDCEASSmD80"
      },
      "source": [
        "def write_to_file(content, filename):\n",
        "    try:\n",
        "        write_to_file = open(filename, \"w\")\n",
        "        write_to_file.write(content)\n",
        "        write_to_file.close()\n",
        "    except Exception as e:\n",
        "        logging.error(\"Error Writing \" + str(e) + \"; in File: \" + filename )"
      ],
      "execution_count": 13,
      "outputs": []
    },
    {
      "cell_type": "markdown",
      "metadata": {
        "id": "vXNE-Ky6hBul"
      },
      "source": [
        "---\n",
        "# Program Execution Main Part\n",
        "\n",
        "\n",
        "\n"
      ]
    },
    {
      "cell_type": "code",
      "metadata": {
        "id": "ndgchW9ImHLR"
      },
      "source": [
        "\n",
        "file_processing_counter_success = []\n",
        "file_processing_counter_failure = []\n",
        "\n",
        "# ml_related_list_initialize()\n",
        "\n",
        "for input_file_name in selecetd_input_filenames:\n",
        "    try:\n",
        "        input_file = codecs.open(data_directory + \"/\" + input_file_name, 'r')\n",
        "\n",
        "        converted_file_name = filename_conversion(input_file_name)\n",
        "\n",
        "        input_file_source = input_file.read()\n",
        "        python_content = input_notebbok_processing_for_python_code(input_file_source, input_file_name)\n",
        "\n",
        "    #     print (python_content)   \n",
        "        write_to_the_converted_file(python_content, converted_file_name)\n",
        "        print (input_file_name + \" : Complete\")\n",
        "\n",
        "        file_processing_counter_success.append(input_file_name)\n",
        "\n",
        "    except Exception as e:\n",
        "        logging.error(\"Error Reading \" + str(e) + \"; in File: \" + input_file_name )\n",
        "        file_processing_counter_failure.append(input_file_name)\n",
        "\n",
        "print(\"Conversion Done; Total Sucess \" + str(len(file_processing_counter_success)) + \", Fail \" + str(len(file_processing_counter_failure)))\n",
        "\n",
        "write_to_file_import_package_list_with_file_name(\"import_package_list1.csv\", import_package_list_with_file_name)"
      ],
      "execution_count": null,
      "outputs": []
    }
  ]
}