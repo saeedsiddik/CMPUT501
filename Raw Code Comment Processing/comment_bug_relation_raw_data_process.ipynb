{
 "cells": [
  {
   "cell_type": "code",
   "execution_count": 1,
   "metadata": {},
   "outputs": [],
   "source": [
    "import pickle\n",
    "import json\n",
    "import random\n",
    "import re"
   ]
  },
  {
   "cell_type": "code",
   "execution_count": 30,
   "metadata": {},
   "outputs": [],
   "source": [
    "with open (\"Bug.txt\", \"r\") as f:\n",
    "    contents_bug = f.readlines()"
   ]
  },
  {
   "cell_type": "code",
   "execution_count": 31,
   "metadata": {},
   "outputs": [],
   "source": [
    "with open (\"NoBug.txt\", \"r\") as f:\n",
    "    contents_nobug = f.readlines()"
   ]
  },
  {
   "cell_type": "code",
   "execution_count": 32,
   "metadata": {},
   "outputs": [],
   "source": [
    "def data_preprocessing_reset():\n",
    "    code = \"\"\n",
    "    code_line_count = 0\n",
    "    number_of_code_lines = 0\n",
    "\n",
    "    comment = \"\"\n",
    "    comment_line_count = 0\n",
    "    number_of_comment_lines = 0\n",
    "    \n",
    "    line_status = \"\"\n",
    "    \n",
    "    return code, code_line_count, number_of_code_lines, comment, comment_line_count, number_of_comment_lines, line_status"
   ]
  },
  {
   "cell_type": "code",
   "execution_count": 33,
   "metadata": {},
   "outputs": [],
   "source": [
    "def data_preprocessing_for_code_comment_pair(data_mood_whether_bug_or_not, contents):    \n",
    "    code, code_line_count, number_of_code_lines, comment, comment_line_count, number_of_comment_lines, line_status = data_preprocessing_reset()\n",
    "    code_comment_mood_count = 0\n",
    "    pairs_bug = []\n",
    "\n",
    "    for line in contents:\n",
    "        line = line.replace(\"\\n\", \"\").strip()\n",
    "\n",
    "        if data_mood_whether_bug_or_not in line:\n",
    "            pairs_bug.append({\"code\":code, \"comment\":comment, \"coherence\":1})\n",
    "#             pairs_bug.append({\"code\":code, \"comment\":comment})\n",
    "            code, code_line_count, number_of_code_lines, comment, comment_line_count, number_of_comment_lines, line_status = data_preprocessing_reset()\n",
    "\n",
    "\n",
    "        if line.isdigit():\n",
    "            if (code_comment_mood_count % 2 == 0):\n",
    "                line_status = \"comment\"\n",
    "                number_of_comment_lines = line.isdigit()\n",
    "            else:\n",
    "                line_status = \"code\"\n",
    "                number_of_code_lines = line.isdigit()\n",
    "\n",
    "            code_comment_mood_count += 1\n",
    "            continue\n",
    "\n",
    "        if line_status == \"comment\":\n",
    "            comment += line\n",
    "        elif (line_status == \"code\"):\n",
    "            code += line\n",
    "            \n",
    "    return pairs_bug"
   ]
  },
  {
   "cell_type": "code",
   "execution_count": 34,
   "metadata": {},
   "outputs": [],
   "source": [
    "pairs_bug = data_preprocessing_for_code_comment_pair(\"#BUG\", contents_bug)"
   ]
  },
  {
   "cell_type": "code",
   "execution_count": 35,
   "metadata": {},
   "outputs": [],
   "source": [
    "pairs_nobug = data_preprocessing_for_code_comment_pair(\"#NoBug\", contents_nobug)"
   ]
  },
  {
   "cell_type": "code",
   "execution_count": 38,
   "metadata": {},
   "outputs": [],
   "source": [
    "with open(\"test_nobug.json\",\"w\") as f:\n",
    "    f.write(str(pairs_nobug))"
   ]
  },
  {
   "cell_type": "code",
   "execution_count": 39,
   "metadata": {},
   "outputs": [],
   "source": [
    "with open(\"test_bug.json\",\"w\") as f:\n",
    "    f.write(str(pairs_bug))"
   ]
  }
 ],
 "metadata": {
  "kernelspec": {
   "display_name": "Python 3",
   "language": "python",
   "name": "python3"
  },
  "language_info": {
   "codemirror_mode": {
    "name": "ipython",
    "version": 3
   },
   "file_extension": ".py",
   "mimetype": "text/x-python",
   "name": "python",
   "nbconvert_exporter": "python",
   "pygments_lexer": "ipython3",
   "version": "3.7.7"
  },
  "toc": {
   "base_numbering": 1,
   "nav_menu": {},
   "number_sections": true,
   "sideBar": true,
   "skip_h1_title": false,
   "title_cell": "Table of Contents",
   "title_sidebar": "Contents",
   "toc_cell": false,
   "toc_position": {},
   "toc_section_display": true,
   "toc_window_display": false
  },
  "varInspector": {
   "cols": {
    "lenName": 16,
    "lenType": 16,
    "lenVar": 40
   },
   "kernels_config": {
    "python": {
     "delete_cmd_postfix": "",
     "delete_cmd_prefix": "del ",
     "library": "var_list.py",
     "varRefreshCmd": "print(var_dic_list())"
    },
    "r": {
     "delete_cmd_postfix": ") ",
     "delete_cmd_prefix": "rm(",
     "library": "var_list.r",
     "varRefreshCmd": "cat(var_dic_list()) "
    }
   },
   "types_to_exclude": [
    "module",
    "function",
    "builtin_function_or_method",
    "instance",
    "_Feature"
   ],
   "window_display": false
  }
 },
 "nbformat": 4,
 "nbformat_minor": 4
}
